{
 "cells": [
  {
   "cell_type": "markdown",
   "id": "557e4faf",
   "metadata": {},
   "source": [
    "# Project 3: Linear regression with House Prices\n"
   ]
  },
  {
   "cell_type": "markdown",
   "id": "b7d2641e",
   "metadata": {},
   "source": [
    "## Introduction:\n",
    "- In this notebook we will expereiment with a dataset that is provided from kaggle about predicting the price of a home with 79 features of homes in  Ames Iowa\n",
    "- The goal is to use linear regression and other techniques to predict the price of a home with the parameters a person wants\n",
    "- The Link of the kaggle dataset is here : https://www.kaggle.com/c/house-prices-advanced-regression-techniques/overview \n",
    "\n",
    "\n",
    "## Features\n",
    "- there are 79 features in this dataset.\n",
    "\n"
   ]
  },
  {
   "cell_type": "code",
   "execution_count": null,
   "metadata": {},
   "outputs": [],
   "source": []
  }
 ],
 "metadata": {
  "kernelspec": {
   "display_name": "Python 3 (ipykernel)",
   "language": "python",
   "name": "python3"
  },
  "language_info": {
   "codemirror_mode": {
    "name": "ipython",
    "version": 3
   },
   "file_extension": ".py",
   "mimetype": "text/x-python",
   "name": "python",
   "nbconvert_exporter": "python",
   "pygments_lexer": "ipython3",
   "version": "3.9.5"
  }
 },
 "nbformat": 4,
 "nbformat_minor": 5
}
