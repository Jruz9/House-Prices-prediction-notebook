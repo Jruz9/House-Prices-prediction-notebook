{
 "cells": [
  {
   "cell_type": "markdown",
   "id": "557e4faf",
   "metadata": {},
   "source": [
    "# Project 3: Linear regression with House Prices\n"
   ]
  },
  {
   "cell_type": "markdown",
   "id": "b7d2641e",
   "metadata": {},
   "source": [
    "## Introduction:\n",
    "- In this notebook we will expereiment with a dataset that is provided from kaggle about predicting the price of a home with 79 features of homes in  Ames Iowa\n",
    "- The goal is to use linear regression and other techniques to predict the price of a home with the parameters a person wants\n",
    "- The Link of the kaggle dataset is here : https://www.kaggle.com/c/house-prices-advanced-regression-techniques/overview \n",
    "\n",
    "\n",
    "## Features\n",
    "- there are 79 features in this dataset.\n",
    "\n"
   ]
  },
  {
   "cell_type": "markdown",
   "metadata": {},
   "source": [
    "## prequiestist"
   ]
  },
  {
   "cell_type": "code",
   "execution_count": 1,
   "metadata": {},
   "outputs": [],
   "source": [
    "import pandas as pd\n",
    "import numpy as np\n",
    "import matplotlib.pyplot as plt\n",
    "import seaborn as sns\n",
    "import sklearn as sk"
   ]
  },
  {
   "cell_type": "code",
   "execution_count": 4,
   "metadata": {},
   "outputs": [],
   "source": [
    "# Load data from datasets\n",
    "trainingDataset= pd.read_csv(\"train.csv\")"
   ]
  },
  {
   "cell_type": "code",
   "execution_count": 8,
   "metadata": {},
   "outputs": [
    {
     "data": {
      "text/plain": [
       "Id                 int64\n",
       "MSSubClass         int64\n",
       "MSZoning          object\n",
       "LotFrontage      float64\n",
       "LotArea            int64\n",
       "                  ...   \n",
       "MoSold             int64\n",
       "YrSold             int64\n",
       "SaleType          object\n",
       "SaleCondition     object\n",
       "SalePrice          int64\n",
       "Length: 81, dtype: object"
      ]
     },
     "execution_count": 8,
     "metadata": {},
     "output_type": "execute_result"
    }
   ],
   "source": [
    "# feature lokking he\n",
    "trainingDataset.dtypes"
   ]
  },
  {
   "cell_type": "code",
   "execution_count": 9,
   "metadata": {},
   "outputs": [
    {
     "name": "stdout",
     "output_type": "stream",
     "text": [
      "\n",
      "Null values %:\n",
      " Id               0.000000\n",
      "MSSubClass       0.000000\n",
      "MSZoning         0.000000\n",
      "LotFrontage      0.177397\n",
      "LotArea          0.000000\n",
      "                   ...   \n",
      "MoSold           0.000000\n",
      "YrSold           0.000000\n",
      "SaleType         0.000000\n",
      "SaleCondition    0.000000\n",
      "SalePrice        0.000000\n",
      "Length: 81, dtype: float64\n"
     ]
    }
   ],
   "source": [
    "# print  the result if any column has null values.\n",
    "print(f\"\\nNull values %:\\n {trainingDataset.apply(lambda x: sum(x.isnull()) / len(trainingDataset))}\")\n",
    " "
   ]
  },
  {
   "cell_type": "code",
   "execution_count": 10,
   "metadata": {},
   "outputs": [
    {
     "name": "stdout",
     "output_type": "stream",
     "text": [
      "\n",
      "Unknown Values %:\n",
      "Id               0.0\n",
      "MSSubClass       0.0\n",
      "MSZoning         0.0\n",
      "LotFrontage      0.0\n",
      "LotArea          0.0\n",
      "                ... \n",
      "MoSold           0.0\n",
      "YrSold           0.0\n",
      "SaleType         0.0\n",
      "SaleCondition    0.0\n",
      "SalePrice        0.0\n",
      "Length: 81, dtype: float64\n"
     ]
    }
   ],
   "source": [
    "# calulates unknkown values for our dataset\n",
    "print(f\"\\nUnknown Values %:\\n{trainingDataset.apply(lambda x: sum(x=='Unknown') / len(trainingDataset))}\")"
   ]
  },
  {
   "cell_type": "code",
   "execution_count": 11,
   "metadata": {},
   "outputs": [
    {
     "name": "stdout",
     "output_type": "stream",
     "text": [
      "43 Categorical features:\n",
      "['MSZoning', 'Street', 'Alley', 'LotShape', 'LandContour', 'Utilities', 'LotConfig', 'LandSlope', 'Neighborhood', 'Condition1', 'Condition2', 'BldgType', 'HouseStyle', 'RoofStyle', 'RoofMatl', 'Exterior1st', 'Exterior2nd', 'MasVnrType', 'ExterQual', 'ExterCond', 'Foundation', 'BsmtQual', 'BsmtCond', 'BsmtExposure', 'BsmtFinType1', 'BsmtFinType2', 'Heating', 'HeatingQC', 'CentralAir', 'Electrical', 'KitchenQual', 'Functional', 'FireplaceQu', 'GarageType', 'GarageFinish', 'GarageQual', 'GarageCond', 'PavedDrive', 'PoolQC', 'Fence', 'MiscFeature', 'SaleType', 'SaleCondition']\n",
      "\n",
      "3 float64 features:\n",
      "['LotFrontage', 'MasVnrArea', 'GarageYrBlt']\n",
      "\n",
      "35 int features:\n",
      "['Id', 'MSSubClass', 'LotArea', 'OverallQual', 'OverallCond', 'YearBuilt', 'YearRemodAdd', 'BsmtFinSF1', 'BsmtFinSF2', 'BsmtUnfSF', 'TotalBsmtSF', '1stFlrSF', '2ndFlrSF', 'LowQualFinSF', 'GrLivArea', 'BsmtFullBath', 'BsmtHalfBath', 'FullBath', 'HalfBath', 'BedroomAbvGr', 'KitchenAbvGr', 'TotRmsAbvGrd', 'Fireplaces', 'GarageCars', 'GarageArea', 'WoodDeckSF', 'OpenPorchSF', 'EnclosedPorch', '3SsnPorch', 'ScreenPorch', 'PoolArea', 'MiscVal', 'MoSold', 'YrSold', 'SalePrice']\n"
     ]
    }
   ],
   "source": [
    "# create  a list of variables that are either  int , float64 and objects\n",
    "\n",
    "s = (trainingDataset.dtypes == 'object')\n",
    "cat_cols = list(s[s].index)\n",
    "print(f\"{len(cat_cols)} Categorical features:\\n{cat_cols}\")\n",
    "\n",
    "\n",
    "s = (trainingDataset.dtypes == 'float64')\n",
    "float64_cols = list(s[s].index)\n",
    "print(f\"\\n{len(float64_cols)} float64 features:\\n{float64_cols}\")\n",
    "\n",
    "s = (trainingDataset.dtypes == 'int64')\n",
    "int64_cols = list(s[s].index)\n",
    "print(f\"\\n{len(int64_cols)} int features:\\n{int64_cols}\")\n",
    "del s # auto memory nerd stuff"
   ]
  },
  {
   "cell_type": "markdown",
   "metadata": {},
   "source": [
    "## Insights\n",
    "\n",
    "- In our last cell we found that our tarining dataset contains 43 categorical features, 3 float64 features and 35 int features\n",
    "- we see how well they corelate and see how imporatant they are to the prediction of the price of our homes"
   ]
  },
  {
   "cell_type": "code",
   "execution_count": null,
   "metadata": {},
   "outputs": [],
   "source": []
  }
 ],
 "metadata": {
  "interpreter": {
   "hash": "fa7ccac1784bb05f5f075171dd15f2b316fc96f0411345de080635aff3476bc6"
  },
  "kernelspec": {
   "display_name": "Python 3.9.5 64-bit",
   "name": "python3"
  },
  "language_info": {
   "codemirror_mode": {
    "name": "ipython",
    "version": 3
   },
   "file_extension": ".py",
   "mimetype": "text/x-python",
   "name": "python",
   "nbconvert_exporter": "python",
   "pygments_lexer": "ipython3",
   "version": "3.9.5"
  }
 },
 "nbformat": 4,
 "nbformat_minor": 5
}
